{
 "cells": [
  {
   "cell_type": "code",
   "execution_count": 1,
   "metadata": {
    "collapsed": true
   },
   "outputs": [],
   "source": [
    "import tensorflow as tf\n",
    "import numpy as np\n",
    "import matplotlib.pyplot as plt\n",
    "import scipy.special"
   ]
  },
  {
   "cell_type": "code",
   "execution_count": 2,
   "metadata": {
    "collapsed": false
   },
   "outputs": [],
   "source": [
    "N = 16\n",
    "K = 8\n",
    "slicer = 2\n",
    "batch_size = int((2**K)/slicer)"
   ]
  },
  {
   "cell_type": "code",
   "execution_count": 3,
   "metadata": {
    "collapsed": false
   },
   "outputs": [],
   "source": [
    "def full_adder(a,b,c):\n",
    "    s = (a ^ b) ^ c\n",
    "    c = (a & b) | (c & (a ^ b))\n",
    "    return s,c\n",
    "\n",
    "def add_bool(a,b):\n",
    "    k = len(a)\n",
    "    s = np.zeros(k,dtype=bool)\n",
    "    c = False\n",
    "    for i in reversed(range(0,k)):\n",
    "        s[i], c = full_adder(a[i],b[i],c)    \n",
    "    \n",
    "    return s\n",
    "\n",
    "def inc_bin(a):\n",
    "    k = len(a)\n",
    "    increment = np.hstack((np.zeros(k-1,dtype=int), np.ones(1,dtype=int)))\n",
    "    a = add_bool(a,increment)\n",
    "    return a\n",
    "\n",
    "def approx(C):\n",
    "    W = inv_fc(1-(1-pi_fc(C))**2)  \n",
    "    return W\n",
    "\n",
    "def pi_fc(x):\n",
    "    a = -0.4527\n",
    "    b = 0.0218\n",
    "    r = 0.86\n",
    "    \n",
    "    if x < 10:\n",
    "        P = np.exp(a*(x**r)+b)\n",
    "    else:\n",
    "        P = np.sqrt((np.pi)/x)*np.exp(-x/4)*(1-10/(7*x))\n",
    "        \n",
    "    return P\n",
    "\n",
    "def inv_fc(x):\n",
    "    a = -0.4527\n",
    "    b = 0.0218\n",
    "    r = 0.86\n",
    "    \n",
    "    I = ((np.log(x)-b)/a)**(1/r)\n",
    "    \n",
    "    return I\n",
    "    \n",
    "\n",
    "def polarization(N, K, sigma_train):\n",
    "    \n",
    "    W = np.ones(N, dtype=float)\n",
    "    W_temp = np.zeros(N, dtype=float)\n",
    "    \n",
    "    W[0] = (2/(sigma_train**2))\n",
    "    \n",
    "    for i in range(1, int(np.log2(N))+1):\n",
    "        W_temp[:] = W[:]\n",
    "        t = 2**(i-1)\n",
    "        \n",
    "        for j in range(1,(int(t))+1):\n",
    "            C = W_temp[j-1]\n",
    "            W[2*j-1-1] = approx(C)         #polarization by using density evolution\n",
    "            W[2*j-1] = 2*C\n",
    "                  \n",
    "    qfunc = lambda x: 0.5-0.5*scipy.special.erf(x/np.sqrt(2))\n",
    "    W = qfunc(np.sqrt(W/2))\n",
    "    idx = sorted(range(W.size), key=lambda k: -W[k]) # descend order \n",
    "    A = idx[-K:]\n",
    "    \n",
    "    \n",
    "    return A\n",
    "    \n",
    "def encoding(u, N):\n",
    "\n",
    "    n = 1\n",
    "    x = np.copy(u)\n",
    "    step = np.log2(N)\n",
    "    for s in range(0,step.astype(int)):\n",
    "        i = 0\n",
    "        while i < N:\n",
    "            for j in range(0,n):\n",
    "                idx = i+j\n",
    "                x[idx] = x[idx] ^ x[idx+n]\n",
    "            i=i+2*n\n",
    "        n=2*n\n",
    "        \n",
    "    for s in range(0,N):\n",
    "        if np.mod(x[s],2) == 0:\n",
    "            x[s] = 0\n",
    "\n",
    "    return x"
   ]
  },
  {
   "cell_type": "code",
   "execution_count": 4,
   "metadata": {
    "collapsed": false
   },
   "outputs": [
    {
     "name": "stdout",
     "output_type": "stream",
     "text": [
      "0.630209582093\n"
     ]
    }
   ],
   "source": [
    "snr_train = 1\n",
    "sigma_train = np.sqrt(1/(2*10**(snr_train/10)))\n",
    "print(sigma_train)"
   ]
  },
  {
   "cell_type": "code",
   "execution_count": 5,
   "metadata": {
    "collapsed": false
   },
   "outputs": [],
   "source": [
    "b = np.zeros((2**K,K),dtype=int)\n",
    "for i in range(1,2**K):\n",
    "    b[i]= inc_bin(b[i-1])"
   ]
  },
  {
   "cell_type": "code",
   "execution_count": 6,
   "metadata": {
    "collapsed": false
   },
   "outputs": [],
   "source": [
    "A = polarization(N, K, sigma_train)\n",
    "u = np.zeros((2**K, N), dtype=int)\n",
    "u[:,A] = b"
   ]
  },
  {
   "cell_type": "code",
   "execution_count": 7,
   "metadata": {
    "collapsed": false
   },
   "outputs": [
    {
     "data": {
      "text/plain": [
       "[9, 10, 12, 7, 11, 13, 14, 15]"
      ]
     },
     "execution_count": 7,
     "metadata": {},
     "output_type": "execute_result"
    }
   ],
   "source": [
    "A # index of information bits"
   ]
  },
  {
   "cell_type": "code",
   "execution_count": 8,
   "metadata": {
    "collapsed": false
   },
   "outputs": [],
   "source": [
    "x = np.zeros((2**K, N), dtype=int)\n",
    "\n",
    "for i in range(0, 2**K):\n",
    "    x[i,:] = encoding(u[i,:], N)\n",
    "    \n",
    "x = (-1)**x # BPSK modulation"
   ]
  },
  {
   "cell_type": "code",
   "execution_count": 9,
   "metadata": {
    "collapsed": false,
    "scrolled": false
   },
   "outputs": [
    {
     "data": {
      "text/plain": [
       "array([[0, 0, 0, ..., 0, 0, 0],\n",
       "       [0, 0, 0, ..., 0, 0, 1],\n",
       "       [0, 0, 0, ..., 0, 1, 0],\n",
       "       ..., \n",
       "       [1, 1, 1, ..., 1, 0, 1],\n",
       "       [1, 1, 1, ..., 1, 1, 0],\n",
       "       [1, 1, 1, ..., 1, 1, 1]])"
      ]
     },
     "execution_count": 9,
     "metadata": {},
     "output_type": "execute_result"
    }
   ],
   "source": [
    "b[:,:] #all possible information sequence"
   ]
  },
  {
   "cell_type": "code",
   "execution_count": 10,
   "metadata": {
    "collapsed": false
   },
   "outputs": [
    {
     "data": {
      "text/plain": [
       "array([[ 1,  1,  1, ...,  1,  1,  1],\n",
       "       [-1, -1, -1, ..., -1, -1, -1],\n",
       "       [-1,  1, -1, ...,  1, -1,  1],\n",
       "       ..., \n",
       "       [-1, -1,  1, ...,  1, -1, -1],\n",
       "       [-1,  1,  1, ..., -1, -1,  1],\n",
       "       [ 1, -1, -1, ...,  1,  1, -1]])"
      ]
     },
     "execution_count": 10,
     "metadata": {},
     "output_type": "execute_result"
    }
   ],
   "source": [
    "x[:,:] #modulated codeword"
   ]
  },
  {
   "cell_type": "code",
   "execution_count": 13,
   "metadata": {
    "collapsed": false,
    "scrolled": true
   },
   "outputs": [],
   "source": [
    "Layer1 = 128\n",
    "Layer2 = 64\n",
    "Layer3 = 32\n",
    "Layer4 = K\n",
    "\n",
    "\n",
    "X = tf.placeholder(tf.float32,[None, N])\n",
    "Y = tf.placeholder(tf.float32,[None, K])\n",
    "#keep_prob = tf.placeholder(tf.float32)\n",
    "\n",
    "# W1 = tf.Variable(tf.zeros([N, Layer1]))\n",
    "# W2 = tf.Variable(tf.zeros([Layer1, Layer2]))\n",
    "# W3 = tf.Variable(tf.zeros([Layer2, Layer3]))\n",
    "# W4 = tf.Variable(tf.zeros([Layer3, Layer4]))\n",
    "\n",
    "W1 = tf.Variable(tf.random_uniform([N, Layer1], -1.0, 1.0))\n",
    "W2 = tf.Variable(tf.random_uniform([Layer1, Layer2], -1.0, 1.0))\n",
    "W3 = tf.Variable(tf.random_uniform([Layer2, Layer3], -1.0, 1.0))\n",
    "W4 = tf.Variable(tf.random_uniform([Layer3, Layer4], -1.0, 1.0))\n",
    "# W5 = tf.Variable(tf.random_uniform([Layer4, Layer5], -1.0, 1.0))\n",
    "# W6 = tf.Variable(tf.random_uniform([Layer5, Layer6], -1.0, 1.0))\n",
    "\n",
    "# W1 = tf.get_variable(\"W1\", shape=[N, Layer1], initializer=tf.contrib.layers.xavier_initializer())\n",
    "# W2 = tf.get_variable(\"W2\", shape=[Layer1, Layer2], initializer=tf.contrib.layers.xavier_initializer())\n",
    "# W3 = tf.get_variable(\"W3\", shape=[Layer2, Layer3], initializer=tf.contrib.layers.xavier_initializer())\n",
    "# W4 = tf.get_variable(\"W4\", shape=[Layer3, Layer4], initializer=tf.contrib.layers.xavier_initializer())\n",
    "# W5 = tf.get_variable(\"W5\", shape=[Layer4, Layer5], initializer=tf.contrib.layers.xavier_initializer())\n",
    "\n",
    "\n",
    "b1 = tf.Variable(tf.zeros([Layer1]), name = \"Bias1\")\n",
    "b2 = tf.Variable(tf.zeros([Layer2]), name = \"Bias2\")\n",
    "b3 = tf.Variable(tf.zeros([Layer3]), name = \"Bias3\")\n",
    "b4 = tf.Variable(tf.zeros([Layer4]), name = \"Bias4\")\n",
    "# b5 = tf.Variable(tf.zeros([Layer5]), name = \"Bias5\")\n",
    "# b6 = tf.Variable(tf.zeros([Layer6]), name = \"Bias6\")\n",
    "\n",
    "L1 = tf.nn.relu(tf.matmul(X, W1) + b1)\n",
    "#L1 = tf.nn.dropout(L1, keep_prob = keep_prob)\n",
    "\n",
    "L2 = tf.nn.relu(tf.matmul(L1, W2) + b2)\n",
    "#L2 = tf.nn.dropout(L2, keep_prob = keep_prob)\n",
    "\n",
    "L3 = tf.nn.relu(tf.matmul(L2, W3) + b3)\n",
    "#L3 = tf.nn.dropout(L3, keep_prob = keep_prob)\n",
    "\n",
    "# L4 = tf.nn.relu(tf.matmul(L3, W4) + b4)\n",
    "# #L4 = tf.nn.dropout(L4, keep_prob = keep_prob)\n",
    "\n",
    "# L5 = tf.nn.relu(tf.matmul(L4, W5) + b5)\n",
    "\n",
    "h1 = tf.nn.sigmoid(tf.matmul(L3, W4) + b4)\n",
    "\n",
    "h2 = tf.maximum(h1,0.)\n",
    "hypo = tf.minimum(1., h2)\n",
    "\n",
    "#cost = -tf.reduce_mean(tf.maximum(Y,0)*tf.log(hypo)+tf.maximum(-Y,0)*tf.log(-hypo)+((1-tf.abs(Y))*tf.log(1-hypo)))\n",
    "#cost = -tf.reduce_mean(tf.maximum(Y,0)*tf.log(hypo)+tf.maximum(-Y,0)*tf.log(-hypo)+((1-tf.abs(Y))*tf.log(1-hypo)))\n",
    "#cost = -tf.reduce_mean(Y*tf.log(hypo)+(1-Y)*tf.log(1-hypo))\n",
    "cost = tf.reduce_mean(tf.square(Y-h1))\n",
    "\n",
    "a = 0.001\n",
    "#optimizer = tf.train.GradientDescentOptimizer(a)\n",
    "optimizer = tf.train.AdamOptimizer()\n",
    "train = optimizer.minimize(cost)\n"
   ]
  },
  {
   "cell_type": "code",
   "execution_count": 14,
   "metadata": {
    "collapsed": false,
    "scrolled": false
   },
   "outputs": [
    {
     "name": "stdout",
     "output_type": "stream",
     "text": [
      ">>>>>>>>>>>>>>>>>>>>>>>>>>>>>>>>>>>>>>>>>>>>>>>>>>>>>>>>>>>>>>>>>>>>>>>>>>>>>>>>>>>>>\n",
      "# of training : 1000\n",
      "--------training result (w/o noise) --------\n",
      "Accuracy: 0.858887 cost: 0.138046\n",
      "--------checking BER (w.r.t various noise)--------\n",
      "SNR 0 0.26123046875\n",
      "SNR 1 0.21923828125\n",
      "SNR 2 0.1884765625\n",
      "SNR 3 0.18994140625\n",
      ">>>>>>>>>>>>>>>>>>>>>>>>>>>>>>>>>>>>>>>>>>>>>>>>>>>>>>>>>>>>>>>>>>>>>>>>>>>>>>>>>>>>>\n",
      "# of training : 10000\n",
      "--------training result (w/o noise) --------\n",
      "Accuracy: 0.983398 cost: 0.0165468\n",
      "--------checking BER (w.r.t various noise)--------\n",
      "SNR 0 0.09765625\n",
      "SNR 1 0.0706380208333\n",
      "SNR 2 0.0487060546875\n",
      "SNR 3 0.033203125\n",
      ">>>>>>>>>>>>>>>>>>>>>>>>>>>>>>>>>>>>>>>>>>>>>>>>>>>>>>>>>>>>>>>>>>>>>>>>>>>>>>>>>>>>>\n",
      "# of training : 100000\n",
      "--------training result (w/o noise) --------\n",
      "Accuracy: 1.0 cost: 2.87962e-07\n",
      "--------checking BER (w.r.t various noise)--------\n",
      "SNR 0 0.0269368489583\n",
      "SNR 1 0.00936889648438\n",
      "SNR 2 0.00286395733173\n",
      "SNR 3 0.000676426318807\n",
      ">>>>>>>>>>>>>>>>>>>>>>>>>>>>>>>>>>>>>>>>>>>>>>>>>>>>>>>>>>>>>>>>>>>>>>>>>>>>>>>>>>>>>\n",
      "# of training : 1000000\n",
      "--------training result (w/o noise) --------\n",
      "Accuracy: 1.0 cost: 7.724e-09\n",
      "--------checking BER (w.r.t various noise)--------\n",
      "SNR 0 0.0252278645833\n",
      "SNR 1 0.0080810546875\n",
      "SNR 2 0.0021484375\n",
      "SNR 3 0.000477255544355\n"
     ]
    }
   ],
   "source": [
    "## mini batch\n",
    "init = tf.global_variables_initializer()\n",
    "sess = tf.Session()\n",
    "\n",
    "\n",
    "\n",
    "num_train = 4\n",
    "\n",
    "trial = 2500\n",
    "num_snr = 4\n",
    "error = np.zeros([num_train, num_snr], dtype=\"float\")\n",
    "BER = np.zeros([num_train, num_snr], dtype=\"float\")\n",
    "\n",
    "for t in range(num_train):\n",
    "    \n",
    "    \n",
    "    print(\">>>>>>>>>>>>>>>>>>>>>>>>>>>>>>>>>>>>>>>>>>>>>>>>>>>>>>>>>>>>>>>>>>>>>>>>>>>>>>>>>>>>>\")\n",
    "    sess.run(init)\n",
    "    print(\"# of training : {}\".format(10**((t+3))))\n",
    "    \n",
    "    for step in range(slicer*10**((t+3))):\n",
    "        \n",
    "        arr = np.arange(2**K)\n",
    "        np.random.shuffle(arr)\n",
    "        batch_arr = arr[0:batch_size]\n",
    "        \n",
    "        xx = x[batch_arr]+np.random.normal(0,sigma_train,(batch_size, N))#*(2/sigma_train**2)\n",
    "        bb = b[batch_arr]\n",
    "        \n",
    "        sess.run(train, feed_dict={X:xx, Y:bb})\n",
    "                                 # {X:(x+np.random.normal(0,sigma_train,(2**K, N)))*(2/sigma_train**2), Y:b,keep_prob:1.}\n",
    "                                 # {X:(x+np.random.normal(0,sigma_train,(2**K, N)))*(2/sigma_train**2), Y:b,keep_prob:1.}\n",
    "\n",
    "#         if step % 10000 == 0:\n",
    "#             print(\"step:\", step, \n",
    "#                   \"cost:\", sess.run(cost, feed_dict={X:xx, Y:bb}))\n",
    "            #print(\"prediction\",sess.run(hypo, feed_dict={X:xx, Y:b}))    \n",
    "        \n",
    "        #print(sess.run(accuracy, feed_dict={X:(x+np.random.normal(0,sigma_train,(2**K, N)))*(2/sigma_train**2), Y:b,keep_prob:1.}))\n",
    "    correct_detection = tf.equal(tf.round(hypo), Y)\n",
    "    accuracy = tf.reduce_mean(tf.cast(correct_detection,\"float\"))        \n",
    "\n",
    "    print(\"--------training result (w/o noise) --------\")\n",
    "    print(\"Accuracy:\", sess.run(accuracy, feed_dict={X:x, Y:b}),\n",
    "          \"cost:\", sess.run(cost, feed_dict={X:x, Y:b}))\n",
    "\n",
    "    print(\"--------checking BER (w.r.t various noise)--------\")\n",
    "\n",
    "    \n",
    "    for snr in range(num_snr):\n",
    "        \n",
    "        err = 0\n",
    "        \n",
    "        sigma = np.sqrt(1/(2*10**(snr/10)))\n",
    "        to = 0\n",
    "    \n",
    "        for i in range(trial):\n",
    "            \n",
    "            #sess.run(hypo, feed_dict={X:x+np.random.normal(0,sigma_train,(2**K, N))*(2/sigma_train**2), Y:b,keep_prob:1.})\n",
    "            \n",
    "            wrong_detection = tf.not_equal(tf.round(hypo), Y)\n",
    "            num_error = tf.reduce_sum(tf.cast(wrong_detection,\"float\"))     \n",
    "\n",
    "            e = sess.run(num_error, feed_dict={X:(x+np.random.normal(0,sigma,(2**K, N))), Y:b})\n",
    "            \n",
    "            #print(e)\n",
    "            \n",
    "            err = e#*(2**K)*N\n",
    "\n",
    "            to = to + (2**K)*K\n",
    "            error[t, snr] = error[t, snr] + err\n",
    "\n",
    "            if error[t, snr]>301:\n",
    "                break\n",
    "            \n",
    "        print(\"SNR\",snr, error[t, snr]/to)\n",
    "\n",
    "        BER[t, snr] = error[t, snr]/to\n",
    "        \n",
    "\n"
   ]
  },
  {
   "cell_type": "code",
   "execution_count": null,
   "metadata": {
    "collapsed": true
   },
   "outputs": [],
   "source": []
  },
  {
   "cell_type": "code",
   "execution_count": 15,
   "metadata": {
    "collapsed": false
   },
   "outputs": [
    {
     "data": {
      "image/png": "[encoded data removed]",
      "text/plain": [
       "<matplotlib.figure.Figure at 0x11dc04208>"
      ]
     },
     "metadata": {},
     "output_type": "display_data"
    }
   ],
   "source": [
    "num_train = 4\n",
    "\n",
    "\n",
    "ML = [0.018563,    0.0071536,    0.0021272,   0.00037756,    4.625e-05] \n",
    "    \n",
    "legend = []\n",
    "\n",
    "plt.figure(1)\n",
    "\n",
    "for t in range(num_train):\n",
    "    plt.plot(range(num_snr), BER[t,0:num_snr])\n",
    "    legend.append('$10^{{{}}}$'.format(t+3)) \n",
    "\n",
    "# plt.plot(range(len(SC)), SC, 'k--')    \n",
    "# legend.append('SC')\n",
    "    \n",
    "plt.plot(range(len(ML)), ML, 'k--')\n",
    "legend.append('ML bound')\n",
    "# plt.plot(range(len(SC_ML)), SC_ML)     \n",
    "# legend.append('SCL_4')\n",
    "\n",
    "plt.axis([0, num_snr-1, 1e-4, 1])\n",
    "\n",
    "plt.legend(legend, loc=3)\n",
    "plt.yscale('log')\n",
    "plt.xlabel('$E_b/N_0$')\n",
    "plt.ylabel('BER')    \n",
    "plt.grid(True)\n",
    "plt.show()"
   ]
  }
 ],
 "metadata": {
  "kernelspec": {
   "display_name": "Python 3",
   "language": "python",
   "name": "python3"
  },
  "language_info": {
   "codemirror_mode": {
    "name": "ipython",
    "version": 3
   },
   "file_extension": ".py",
   "mimetype": "text/x-python",
   "name": "python",
   "nbconvert_exporter": "python",
   "pygments_lexer": "ipython3",
   "version": "3.6.0"
  }
 },
 "nbformat": 4,
 "nbformat_minor": 2
}
